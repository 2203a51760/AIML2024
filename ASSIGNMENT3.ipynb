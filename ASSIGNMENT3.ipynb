{
  "nbformat": 4,
  "nbformat_minor": 0,
  "metadata": {
    "colab": {
      "provenance": [],
      "authorship_tag": "ABX9TyNxc2QbUVfJQU4a4j9SoeCC",
      "include_colab_link": true
    },
    "kernelspec": {
      "name": "python3",
      "display_name": "Python 3"
    },
    "language_info": {
      "name": "python"
    }
  },
  "cells": [
    {
      "cell_type": "markdown",
      "metadata": {
        "id": "view-in-github",
        "colab_type": "text"
      },
      "source": [
        "<a href=\"https://colab.research.google.com/github/2203a51760/AIML2024/blob/main/ASSIGNMENT3.ipynb\" target=\"_parent\"><img src=\"https://colab.research.google.com/assets/colab-badge.svg\" alt=\"Open In Colab\"/></a>"
      ]
    },
    {
      "cell_type": "code",
      "execution_count": null,
      "metadata": {
        "id": "jjYTJuwLHCGE"
      },
      "outputs": [],
      "source": []
    },
    {
      "cell_type": "markdown",
      "source": [
        "Implement the MiniMax Search Algorithm\n"
      ],
      "metadata": {
        "id": "2poA4LqKHDyt"
      }
    },
    {
      "cell_type": "code",
      "source": [
        "import math\n",
        "\n",
        "def minimax(curDepth, nodeIndex, maxTurn, scores, targetDepth):\n",
        "    if curDepth == targetDepth:\n",
        "        return scores[nodeIndex]\n",
        "\n",
        "    if maxTurn:\n",
        "        return max(minimax(curDepth + 1, nodeIndex * 2, False, scores, targetDepth),\n",
        "                   minimax(curDepth + 1, nodeIndex * 2 + 1, False, scores, targetDepth))\n",
        "\n",
        "    else:\n",
        "        return min(minimax(curDepth + 1, nodeIndex * 2, True, scores, targetDepth),\n",
        "                   minimax(curDepth + 1, nodeIndex * 2 + 1, True, scores, targetDepth))\n",
        "\n",
        "scores = [12, 10, 36, 25]\n",
        "\n",
        "treeDepth = math.log2(len(scores))\n",
        "\n",
        "max_value = minimax(0, 0, True, scores, treeDepth)\n",
        "min_value = minimax(0, 0, False, scores, treeDepth)\n",
        "\n",
        "print(\"The Max value is:\", max_value)\n",
        "print(\"The Min value is:\", min_value)\n"
      ],
      "metadata": {
        "colab": {
          "base_uri": "https://localhost:8080/"
        },
        "id": "kMGvbibLHHQ1",
        "outputId": "a8446fa0-67b5-4be5-9b0b-2e476ada6412"
      },
      "execution_count": 1,
      "outputs": [
        {
          "output_type": "stream",
          "name": "stdout",
          "text": [
            "The Max value is: 25\n",
            "The Min value is: 12\n"
          ]
        }
      ]
    },
    {
      "cell_type": "code",
      "source": [
        "def minimax(state, alpha, beta, is_max):\n",
        "    if state == 6:\n",
        "        # Initial state, assuming it's a max node\n",
        "        child_nodes = [5, 4]\n",
        "    elif state == 5:\n",
        "        child_nodes = [8, 10, 14]\n",
        "    elif state == 4:\n",
        "        child_nodes = [7, 9, 13]\n",
        "    else:\n",
        "        # Terminal state or leaf node, return the utility value\n",
        "        return state\n",
        "\n",
        "    if is_max:\n",
        "        value = float('-inf')\n",
        "        for child in child_nodes:\n",
        "            value = max(value, minimax(child, alpha, beta, False))\n",
        "            alpha = max(alpha, value)\n",
        "            if alpha >= beta:\n",
        "                break  # Beta cut-off\n",
        "        return value\n",
        "    else:\n",
        "        value = float('inf')\n",
        "        for child in child_nodes:\n",
        "            value = min(value, minimax(child, alpha, beta, True))\n",
        "            beta = min(beta, value)\n",
        "            if beta <= alpha:\n",
        "                break  # Alpha cut-off\n",
        "        return value\n",
        "\n",
        "alpha = float('-inf')\n",
        "beta = float('inf')\n",
        "optimal_move = None\n",
        "for move in [5, 4]:\n",
        "    move_value = minimax(move, alpha, beta, False)\n",
        "    if move_value > alpha:\n",
        "        alpha = move_value\n",
        "        optimal_move = move\n",
        "\n",
        "print(\"Optimal value for the initial state (6):\", alpha)\n",
        "print(\"alpha value:\", alpha)\n",
        "print(\"beta value:\", beta)\n",
        "print(\"minimum value:\", move_value)\n",
        "print(\"Optimal move:\", optimal_move)\n"
      ],
      "metadata": {
        "colab": {
          "base_uri": "https://localhost:8080/"
        },
        "id": "5buxX7DQHVzO",
        "outputId": "5e5d1b8c-7bba-491a-adfd-fc3ce4d36efb"
      },
      "execution_count": 2,
      "outputs": [
        {
          "output_type": "stream",
          "name": "stdout",
          "text": [
            "Optimal value for the initial state (6): 8\n",
            "alpha value: 8\n",
            "beta value: inf\n",
            "minimum value: 7\n",
            "Optimal move: 5\n"
          ]
        }
      ]
    }
  ]
}